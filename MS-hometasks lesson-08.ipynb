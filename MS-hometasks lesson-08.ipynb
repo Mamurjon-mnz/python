{
 "cells": [
  {
   "cell_type": "code",
   "execution_count": null,
   "id": "7eab1056",
   "metadata": {},
   "outputs": [],
   "source": [
    "# Istisnolar bo‘yicha mashqlar:\n",
    "#1.\tNolga bo‘lishda ZeroDivisionError xatosini ushlab qoladigan Python dasturini yozing.\n"
   ]
  },
  {
   "cell_type": "code",
   "execution_count": 8,
   "id": "cee09e1b",
   "metadata": {},
   "outputs": [
    {
     "name": "stdout",
     "output_type": "stream",
     "text": [
      "Error: Nolga bo‘lish mumkin emas!\n"
     ]
    }
   ],
   "source": [
    "try:\n",
    "    x = 387/ 0\n",
    "except ZeroDivisionError:\n",
    "    print(\"Error: Nolga bo‘lish mumkin emas!\")"
   ]
  },
  {
   "cell_type": "code",
   "execution_count": null,
   "id": "c41d02ba",
   "metadata": {},
   "outputs": [],
   "source": [
    "#2.Foydalanuvchidan butun son kiritishni so‘rab, noto‘g‘ri qiymat kiritilsa ValueError xatosini ko‘rsatadigan Python dasturini yozing."
   ]
  },
  {
   "cell_type": "code",
   "execution_count": 11,
   "id": "3a86bc6a",
   "metadata": {},
   "outputs": [
    {
     "name": "stdout",
     "output_type": "stream",
     "text": [
      "Xato: Faqat butun son kiriting!\n"
     ]
    }
   ],
   "source": [
    "try:\n",
    "    n = int(input(\"Butun son kiriting: \"))\n",
    "    print(\"Siz kiritgan son:\", n)\n",
    "except ValueError:\n",
    "    print(\"Xato: Faqat butun son kiriting!\")"
   ]
  },
  {
   "cell_type": "code",
   "execution_count": null,
   "id": "8c47fba1",
   "metadata": {},
   "outputs": [],
   "source": [
    "#3.Faylni ochishga harakat qilib, agar fayl mavjud bo‘lmasa FileNotFoundError xatosini ushlab qoladigan Python dasturini yozing."
   ]
  },
  {
   "cell_type": "code",
   "execution_count": 13,
   "id": "5f3614cf",
   "metadata": {},
   "outputs": [
    {
     "name": "stdout",
     "output_type": "stream",
     "text": [
      "Error: Fayl topilmadi!\n"
     ]
    }
   ],
   "source": [
    "try:\n",
    "    f = open(\"mustaqil_fayl.txt\")\n",
    "except FileNotFoundError:\n",
    "    print(\"Error: Fayl topilmadi!\")"
   ]
  },
  {
   "cell_type": "code",
   "execution_count": null,
   "id": "4c07026b",
   "metadata": {},
   "outputs": [],
   "source": [
    "#4.\tFoydalanuvchidan ikkita son kiritishni so‘rab, son bo‘lmagan qiymat kiritilsa TypeError xatosini ko‘rsatadigan Python dasturini yozing."
   ]
  },
  {
   "cell_type": "code",
   "execution_count": 14,
   "id": "ab5bf807",
   "metadata": {},
   "outputs": [
    {
     "name": "stdout",
     "output_type": "stream",
     "text": [
      "Xato: Faqat son kiriting!\n"
     ]
    }
   ],
   "source": [
    "try:\n",
    "    a = input(\"Birinchi sonni kiriting: \")\n",
    "    b = input(\"Ikkinchi sonni kiriting: \")\n",
    "    if not (a.isdigit() and b.isdigit()):\n",
    "        raise TypeError(\"Faqat son kiriting!\")\n",
    "    print(\"Yig‘indi:\", int(a) + int(b))\n",
    "except TypeError as e:\n",
    "    print(\"Xato:\", e)\n",
    "\n"
   ]
  },
  {
   "cell_type": "code",
   "execution_count": null,
   "id": "f1aa26ae",
   "metadata": {},
   "outputs": [],
   "source": [
    "#5.\tFaylni ochishga harakat qilib, agar ruxsat muammosi bo‘lsa PermissionError xatosini ushlab qoladigan Python dasturini yozing."
   ]
  },
  {
   "cell_type": "code",
   "execution_count": 27,
   "id": "b2d640fc",
   "metadata": {},
   "outputs": [
    {
     "name": "stdout",
     "output_type": "stream",
     "text": [
      "Error: Sizda ushbu faylga ruxsat yo‘q!\n"
     ]
    }
   ],
   "source": [
    "try:\n",
    "    with open(\"C:\\\\Windows\\\\System32\\\\test.txt\", \"w\") as f:\n",
    "        f.write(\"Salom!\")\n",
    "except PermissionError:\n",
    "    print(\"Error: Sizda ushbu faylga ruxsat yo‘q!\")\n"
   ]
  },
  {
   "cell_type": "code",
   "execution_count": null,
   "id": "ca26adcc",
   "metadata": {},
   "outputs": [],
   "source": [
    "#6.\tRo‘yxat (list) ustida amal bajarib, agar indeks diapazondan tashqarida bo‘lsa IndexError xatosini ushlab qoladigan Python dasturini yozing."
   ]
  },
  {
   "cell_type": "code",
   "execution_count": 31,
   "id": "1aec20e0",
   "metadata": {},
   "outputs": [
    {
     "name": "stdout",
     "output_type": "stream",
     "text": [
      "Xato: Siz murojaat qilgan indeks ro‘yxat chegarasidan tashqarida!\n"
     ]
    }
   ],
   "source": [
    "my_list = [10, 20, 30, 40, 50]\n",
    "\n",
    "try:\n",
    "        print(my_list[100])\n",
    "except IndexError:\n",
    "    print(\"Xato: Siz murojaat qilgan indeks ro‘yxat chegarasidan tashqarida!\")"
   ]
  },
  {
   "cell_type": "code",
   "execution_count": null,
   "id": "704f2ebb",
   "metadata": {},
   "outputs": [],
   "source": [
    "#7.\tFoydalanuvchidan son kiritishni so‘rab, foydalanuvchi kiritishni bekor qilsa KeyboardInterrupt xatosini ushlab qoladigan Python dasturini yozing"
   ]
  },
  {
   "cell_type": "code",
   "execution_count": 33,
   "id": "36b777bf",
   "metadata": {},
   "outputs": [
    {
     "name": "stdout",
     "output_type": "stream",
     "text": [
      "Xato: Faqat butun son kiriting!\n"
     ]
    }
   ],
   "source": [
    "try:\n",
    "    son = int(input(\"Son kiriting: \"))\n",
    "    print(\"Siz kiritgan son:\", son)\n",
    "except KeyboardInterrupt:\n",
    "    print(\"\\nXato: Kiritish bekor qilindi (Ctrl+C bosildi)!\")\n",
    "except ValueError:\n",
    "    print(\"Xato: Faqat butun son kiriting!\")"
   ]
  },
  {
   "cell_type": "code",
   "execution_count": null,
   "id": "3372e2a5",
   "metadata": {},
   "outputs": [],
   "source": [
    "#8.\tBo‘lish amalini bajarib, arifmetik xato bo‘lsa ArithmeticError xatosini ushlab qoladigan Python dasturini yozing."
   ]
  },
  {
   "cell_type": "code",
   "execution_count": 36,
   "id": "6d9ad67c",
   "metadata": {},
   "outputs": [
    {
     "name": "stdout",
     "output_type": "stream",
     "text": [
      "Xato: Faqat butun son kiriting!\n"
     ]
    }
   ],
   "source": [
    "try:\n",
    "    a = int(input(\"Birinchi sonni kiriting: \"))\n",
    "    b = int(input(\"Ikkinchi sonni kiriting: \"))\n",
    "    natija = a / b\n",
    "    print(\"Natija:\", natija)\n",
    "except ArithmeticError:\n",
    "    print(\"Xato: Arifmetik amal bajarib bo‘lmadi (masalan, 0 ga bo‘lish)!\")\n",
    "except ValueError:\n",
    "    print(\"Xato: Faqat butun son kiriting!\")\n"
   ]
  },
  {
   "cell_type": "code",
   "execution_count": null,
   "id": "14d048f4",
   "metadata": {},
   "outputs": [],
   "source": [
    "#9.\tFaylni ochib, kodlash (encoding) muammosi bo‘lsa UnicodeDecodeError xatosini ushlab qoladigan Python dasturini yozing."
   ]
  },
  {
   "cell_type": "code",
   "execution_count": 37,
   "id": "29756cdc",
   "metadata": {},
   "outputs": [
    {
     "name": "stdout",
     "output_type": "stream",
     "text": [
      "Xato: Fayl topilmadi!\n"
     ]
    }
   ],
   "source": [
    "try:\n",
    "    with open(\"test.txt\", \"r\", encoding=\"utf-8\") as f:\n",
    "        matn = f.read()\n",
    "    print(\"Fayldan o‘qilgan matn:\", matn)\n",
    "except UnicodeDecodeError:\n",
    "    print(\"Xato: Fayl kodlash muammosi (UnicodeDecodeError)!\")\n",
    "except FileNotFoundError:\n",
    "    print(\"Xato: Fayl topilmadi!\")\n"
   ]
  },
  {
   "cell_type": "code",
   "execution_count": null,
   "id": "9e731d3a",
   "metadata": {},
   "outputs": [],
   "source": [
    "#10.\tRo‘yxat ustida amal bajarib, mavjud bo‘lmagan atributga murojaat qilinganda AttributeError xatosini ushlab qoladigan Python dasturini yozing."
   ]
  },
  {
   "cell_type": "code",
   "execution_count": 38,
   "id": "54e504a3",
   "metadata": {},
   "outputs": [
    {
     "name": "stdout",
     "output_type": "stream",
     "text": [
      "Xato: Ro‘yxatda bunday atribut yoki metod mavjud emas!\n"
     ]
    }
   ],
   "source": [
    "my_list = [1, 2, 3]\n",
    "\n",
    "try:\n",
    "    my_list.push(4)\n",
    "except AttributeError:\n",
    "    print(\"Xato: Ro‘yxatda bunday atribut yoki metod mavjud emas!\")\n"
   ]
  },
  {
   "cell_type": "code",
   "execution_count": null,
   "id": "f38d5a4f",
   "metadata": {},
   "outputs": [],
   "source": [
    "# Python’da Fayl Kiritish/Chiqarish: Mashqlar, Amaliyot va Yechimlar\n",
    "#Fayl bilan ishlash mashqlari:\n"
   ]
  },
  {
   "cell_type": "code",
   "execution_count": null,
   "id": "286a21fa",
   "metadata": {},
   "outputs": [],
   "source": [
    "#1.\tButun matnli faylni o‘qiydigan Python dasturini yozing."
   ]
  },
  {
   "cell_type": "code",
   "execution_count": 41,
   "id": "4a6f6c65",
   "metadata": {},
   "outputs": [
    {
     "name": "stdout",
     "output_type": "stream",
     "text": [
      "Biz pythonni o'rganishga harakat qilyabmiz\n"
     ]
    }
   ],
   "source": [
    "with open(\"matn.txt\", \"r\") as f:\n",
    "    data = f.read()\n",
    "\n",
    "print(data)"
   ]
  },
  {
   "cell_type": "code",
   "execution_count": null,
   "id": "a14f217a",
   "metadata": {},
   "outputs": [],
   "source": [
    "#2.\tFaylning dastlabki n qatorini o‘qiydigan Python dasturini yozing."
   ]
  },
  {
   "cell_type": "code",
   "execution_count": 24,
   "id": "b484affd",
   "metadata": {},
   "outputs": [
    {
     "name": "stdout",
     "output_type": "stream",
     "text": [
      "1.Akmal mening yaqin o'rtog'im\n",
      "2.Xurshid yaxshi tinglovchi\n",
      "3.Sarvar ish yoqmas va dangasa\n",
      "4.Shovkat narx navoni yaxshi o'rgangan\n",
      "5.Rasul faqat matematikani yaxshi ko'radi\n"
     ]
    }
   ],
   "source": [
    "def read_daslabki_n_qator(matnfayl, n):\n",
    "    with open(matnfayl, \"r\") as f:\n",
    "        for i in range(n):\n",
    "            line = f.readline()   \n",
    "            if not line:          \n",
    "                break\n",
    "            print(line, end=\"\")\n",
    "\n",
    "\n",
    "read_daslabki_n_qator(\"matnfayl.txt\", 5)\n"
   ]
  },
  {
   "cell_type": "code",
   "execution_count": null,
   "id": "d1898964",
   "metadata": {},
   "outputs": [],
   "source": [
    "#3.\tFaylga matn qo‘shib, so‘ng qo‘shilgan matnni ko‘rsatadigan Python dasturini yozing."
   ]
  },
  {
   "cell_type": "code",
   "execution_count": 26,
   "id": "573818bf",
   "metadata": {},
   "outputs": [
    {
     "name": "stdout",
     "output_type": "stream",
     "text": [
      "Biz python ni o'qiyabmiz lekin o'zlashtirish qiyin kechyabdi, lekin ayrim joylari qiyin kechyabdi.\n"
     ]
    }
   ],
   "source": [
    "with open(\"matn.txt\", \"a\") as f: \n",
    "    f.write(\", lekin ayrim joylari qiyin kechyabdi.\") \n",
    "\n",
    "with open(\"matn.txt\", \"r\") as f:\n",
    "    print(f.read())\n",
    "\n"
   ]
  },
  {
   "cell_type": "code",
   "execution_count": null,
   "id": "e5622b49",
   "metadata": {},
   "outputs": [],
   "source": [
    "#4.\tFaylning oxirgi n qatorini o‘qiydigan Python dasturini yozing."
   ]
  },
  {
   "cell_type": "code",
   "execution_count": 27,
   "id": "83292418",
   "metadata": {},
   "outputs": [
    {
     "name": "stdout",
     "output_type": "stream",
     "text": [
      "Biz python ni o'qiyabmiz lekin o'zlashtirish qiyin kechyabdi, lekin ayrim joylari qiyin kechyabdi."
     ]
    }
   ],
   "source": [
    "def read_last_n_lines(filename, n):\n",
    "    with open(filename, \"r\") as f:\n",
    "        lines = f.readlines()   \n",
    "        last_lines = lines[-n:] \n",
    "        for line in last_lines:\n",
    "            print(line, end=\"\")\n",
    "\n",
    "\n",
    "read_last_n_lines(\"matn.txt\", 1)   "
   ]
  },
  {
   "cell_type": "code",
   "execution_count": null,
   "id": "c543fced",
   "metadata": {},
   "outputs": [],
   "source": [
    "#5.\tFaylni qatorma-qator o‘qib, ro‘yxatga joylaydigan Python dasturini yozing."
   ]
  },
  {
   "cell_type": "code",
   "execution_count": 28,
   "id": "8a21b652",
   "metadata": {},
   "outputs": [
    {
     "name": "stdout",
     "output_type": "stream",
     "text": [
      "[\"Biz python ni o'qiyabmiz lekin o'zlashtirish qiyin kechyabdi, lekin ayrim joylari qiyin kechyabdi.\"]\n"
     ]
    }
   ],
   "source": [
    "def file_to_list(filename):\n",
    "    lines = []\n",
    "    with open(filename, \"r\") as f:\n",
    "        for line in f:\n",
    "            lines.append(line.strip()) \n",
    "    return lines\n",
    "\n",
    "\n",
    "result = file_to_list(\"matn.txt\")\n",
    "print(result)\n"
   ]
  },
  {
   "cell_type": "code",
   "execution_count": null,
   "id": "2ad43719",
   "metadata": {},
   "outputs": [],
   "source": [
    "#6.\tFaylni qatorma-qator o‘qib, bitta o‘zgaruvchiga joylaydigan Python dasturini yozing."
   ]
  },
  {
   "cell_type": "code",
   "execution_count": 29,
   "id": "79d86549",
   "metadata": {},
   "outputs": [
    {
     "name": "stdout",
     "output_type": "stream",
     "text": [
      "Biz python ni o'qiyabmiz lekin o'zlashtirish qiyin kechyabdi, lekin ayrim joylari qiyin kechyabdi.\n"
     ]
    }
   ],
   "source": [
    "with open(\"matn.txt\", \"r\") as f:\n",
    "    matn = \"\"\n",
    "    for line in f:\n",
    "        matn += line  \n",
    "\n",
    "print(matn)\n"
   ]
  },
  {
   "cell_type": "code",
   "execution_count": null,
   "id": "acd577b4",
   "metadata": {},
   "outputs": [],
   "source": [
    "#7.\tFaylni qatorma-qator o‘qib, massivga joylaydigan Python dasturini yozing."
   ]
  },
  {
   "cell_type": "code",
   "execution_count": 30,
   "id": "e79fbbc7",
   "metadata": {},
   "outputs": [
    {
     "name": "stdout",
     "output_type": "stream",
     "text": [
      "[\"Biz python ni o'qiyabmiz lekin o'zlashtirish qiyin kechyabdi, lekin ayrim joylari qiyin kechyabdi.\"]\n"
     ]
    }
   ],
   "source": [
    "with open(\"matn.txt\", \"r\") as f:\n",
    "    massiv = [line.strip() for line in f]  \n",
    "\n",
    "print(massiv)\n"
   ]
  },
  {
   "cell_type": "code",
   "execution_count": null,
   "id": "46819b2e",
   "metadata": {},
   "outputs": [],
   "source": [
    "# 8.Fayldan eng uzun so‘zlarni topadigan Python dasturini yozing."
   ]
  },
  {
   "cell_type": "code",
   "execution_count": 31,
   "id": "583e5ab5",
   "metadata": {},
   "outputs": [
    {
     "name": "stdout",
     "output_type": "stream",
     "text": [
      "Eng uzun so‘z(lar): [\"o'zlashtirish\"]\n"
     ]
    }
   ],
   "source": [
    "def find_longest_words(filename):\n",
    "    with open(filename, \"r\") as f:\n",
    "        text = f.read()              \n",
    "        words = text.split()        \n",
    "        max_len = max(len(w) for w in words) \n",
    "        longest_words = [w for w in words if len(w) == max_len]\n",
    "        return longest_words\n",
    "\n",
    "\n",
    "result = find_longest_words(\"matn.txt\")\n",
    "print(\"Eng uzun so‘z(lar):\", result)\n"
   ]
  },
  {
   "cell_type": "code",
   "execution_count": null,
   "id": "5a3f527b",
   "metadata": {},
   "outputs": [],
   "source": [
    "#9.\tMatnli fayldagi qatorlar sonini hisoblaydigan Python dasturini yozing."
   ]
  },
  {
   "cell_type": "code",
   "execution_count": 32,
   "id": "e70500f1",
   "metadata": {},
   "outputs": [
    {
     "name": "stdout",
     "output_type": "stream",
     "text": [
      "Fayldagi qatorlar soni: 1\n"
     ]
    }
   ],
   "source": [
    "def count_lines(filename):\n",
    "    with open(filename, \"r\") as f:\n",
    "        count = sum(1 for _ in f) \n",
    "    return count\n",
    "\n",
    "\n",
    "soni = count_lines(\"matn.txt\")\n",
    "print(\"Fayldagi qatorlar soni:\", soni)\n"
   ]
  },
  {
   "cell_type": "code",
   "execution_count": null,
   "id": "821fa06e",
   "metadata": {},
   "outputs": [],
   "source": [
    "#10.Fayldagi so‘zlarning chastotasini (necha marta ishlatilganini) hisoblaydigan Python dasturini yozing."
   ]
  },
  {
   "cell_type": "code",
   "execution_count": 33,
   "id": "78f1ceb3",
   "metadata": {},
   "outputs": [
    {
     "name": "stdout",
     "output_type": "stream",
     "text": [
      "So‘z chastotalari:\n",
      "biz -> 1\n",
      "python -> 1\n",
      "ni -> 1\n",
      "o'qiyabmiz -> 1\n",
      "lekin -> 2\n",
      "o'zlashtirish -> 1\n",
      "qiyin -> 2\n",
      "kechyabdi, -> 1\n",
      "ayrim -> 1\n",
      "joylari -> 1\n",
      "kechyabdi. -> 1\n"
     ]
    }
   ],
   "source": [
    "def word_frequency(filename):\n",
    "    with open(filename, \"r\") as f:\n",
    "        text = f.read().lower()          \n",
    "        words = text.split()             \n",
    "        freq = {}\n",
    "        for w in words:\n",
    "            freq[w] = freq.get(w, 0) + 1 \n",
    "        return freq\n",
    "\n",
    "\n",
    "natija = word_frequency(\"matn.txt\")\n",
    "print(\"So‘z chastotalari:\")\n",
    "for soz, soni in natija.items():\n",
    "    print(soz, \"->\", soni)\n"
   ]
  },
  {
   "cell_type": "code",
   "execution_count": null,
   "id": "03ef155e",
   "metadata": {},
   "outputs": [],
   "source": [
    "#11.Oddiy matnli fayl hajmini topadigan Python dasturini yozing."
   ]
  },
  {
   "cell_type": "code",
   "execution_count": 34,
   "id": "40cfabca",
   "metadata": {},
   "outputs": [
    {
     "name": "stdout",
     "output_type": "stream",
     "text": [
      "Fayl hajmi: 98 bayt\n"
     ]
    }
   ],
   "source": [
    "import os\n",
    "\n",
    "\n",
    "def file_size(filename):\n",
    "    return os.path.getsize(filename)  \n",
    "\n",
    "\n",
    "hajm = file_size(\"matn.txt\")\n",
    "print(\"Fayl hajmi:\", hajm, \"bayt\")\n"
   ]
  },
  {
   "cell_type": "code",
   "execution_count": null,
   "id": "5ecc446f",
   "metadata": {},
   "outputs": [],
   "source": [
    "#12.Ro‘yxatni faylga yozadigan Python dasturini yozing."
   ]
  },
  {
   "cell_type": "code",
   "execution_count": 35,
   "id": "3ac6a1b2",
   "metadata": {},
   "outputs": [
    {
     "name": "stdout",
     "output_type": "stream",
     "text": [
      "Ro‘yxat faylga yozildi!\n"
     ]
    }
   ],
   "source": [
    "def write_list_to_file(filename, data):\n",
    "    with open(filename, \"w\") as f:\n",
    "        for item in data:\n",
    "            f.write(str(item) + \"\\n\") \n",
    "\n",
    "\n",
    "my_list = [\"Salom\", \"Python\", 123, \"Dasturlash\"]\n",
    "write_list_to_file(\"matn1.txt\", my_list)\n",
    "\n",
    "print(\"Ro‘yxat faylga yozildi!\")\n"
   ]
  },
  {
   "cell_type": "code",
   "execution_count": null,
   "id": "95512add",
   "metadata": {},
   "outputs": [],
   "source": [
    "#13.Fayldagi ma’lumotlarni boshqa faylga nusxa qiladigan Python dasturini yozing."
   ]
  },
  {
   "cell_type": "code",
   "execution_count": 36,
   "id": "9d44e650",
   "metadata": {},
   "outputs": [
    {
     "name": "stdout",
     "output_type": "stream",
     "text": [
      "Fayl nusxalandi!\n"
     ]
    }
   ],
   "source": [
    "def copy_file(src, dest):\n",
    "    with open(src, \"r\") as f1:       \n",
    "        data = f1.read()\n",
    "    with open(dest, \"w\") as f2:      \n",
    "        f2.write(data)\n",
    "\n",
    "\n",
    "copy_file(\"matn1.txt\", \"nusxa.txt\")\n",
    "print(\"Fayl nusxalandi!\")\n"
   ]
  },
  {
   "cell_type": "code",
   "execution_count": null,
   "id": "cbf4ad0d",
   "metadata": {},
   "outputs": [],
   "source": [
    "# 14. Birinchi fayldagi har bir qatorni ikkinchi fayldagi mos keladigan qator bilan birlashtiradigan Python dasturini yozing."
   ]
  },
  {
   "cell_type": "code",
   "execution_count": 43,
   "id": "89378057",
   "metadata": {},
   "outputs": [
    {
     "ename": "FileNotFoundError",
     "evalue": "[Errno 2] No such file or directory: 'fayl1.txt'",
     "output_type": "error",
     "traceback": [
      "\u001b[31m---------------------------------------------------------------------------\u001b[39m",
      "\u001b[31mFileNotFoundError\u001b[39m                         Traceback (most recent call last)",
      "\u001b[36mCell\u001b[39m\u001b[36m \u001b[39m\u001b[32mIn[43]\u001b[39m\u001b[32m, line 11\u001b[39m\n\u001b[32m      8\u001b[39m             out.write(line1.strip() + \u001b[33m\"\u001b[39m\u001b[33m \u001b[39m\u001b[33m\"\u001b[39m + line2.strip() + \u001b[33m\"\u001b[39m\u001b[38;5;130;01m\\n\u001b[39;00m\u001b[33m\"\u001b[39m)\n\u001b[32m     10\u001b[39m \u001b[38;5;66;03m# Foydalanish\u001b[39;00m\n\u001b[32m---> \u001b[39m\u001b[32m11\u001b[39m \u001b[43mmerge_files\u001b[49m\u001b[43m(\u001b[49m\u001b[33;43m\"\u001b[39;49m\u001b[33;43mfayl1.txt\u001b[39;49m\u001b[33;43m\"\u001b[39;49m\u001b[43m,\u001b[49m\u001b[43m \u001b[49m\u001b[33;43m\"\u001b[39;49m\u001b[33;43mfayl2.txt\u001b[39;49m\u001b[33;43m\"\u001b[39;49m\u001b[43m,\u001b[49m\u001b[43m \u001b[49m\u001b[33;43m\"\u001b[39;49m\u001b[33;43mbirlashtirilgan_file.txt\u001b[39;49m\u001b[33;43m\"\u001b[39;49m\u001b[43m)\u001b[49m\n\u001b[32m     12\u001b[39m \u001b[38;5;28mprint\u001b[39m(\u001b[33m\"\u001b[39m\u001b[33m✅ Fayllar birlashtirildi!\u001b[39m\u001b[33m\"\u001b[39m)\n",
      "\u001b[36mCell\u001b[39m\u001b[36m \u001b[39m\u001b[32mIn[43]\u001b[39m\u001b[32m, line 2\u001b[39m, in \u001b[36mmerge_files\u001b[39m\u001b[34m(file1, file2, outfile)\u001b[39m\n\u001b[32m      1\u001b[39m \u001b[38;5;28;01mdef\u001b[39;00m\u001b[38;5;250m \u001b[39m\u001b[34mmerge_files\u001b[39m(file1, file2, outfile):\n\u001b[32m----> \u001b[39m\u001b[32m2\u001b[39m     \u001b[38;5;28;01mwith\u001b[39;00m \u001b[38;5;28;43mopen\u001b[39;49m\u001b[43m(\u001b[49m\u001b[43mfile1\u001b[49m\u001b[43m,\u001b[49m\u001b[43m \u001b[49m\u001b[33;43m\"\u001b[39;49m\u001b[33;43mr\u001b[39;49m\u001b[33;43m\"\u001b[39;49m\u001b[43m,\u001b[49m\u001b[43m \u001b[49m\u001b[43mencoding\u001b[49m\u001b[43m=\u001b[49m\u001b[33;43m\"\u001b[39;49m\u001b[33;43mutf-8\u001b[39;49m\u001b[33;43m\"\u001b[39;49m\u001b[43m)\u001b[49m \u001b[38;5;28;01mas\u001b[39;00m f1, \\\n\u001b[32m      3\u001b[39m          \u001b[38;5;28mopen\u001b[39m(file2, \u001b[33m\"\u001b[39m\u001b[33mr\u001b[39m\u001b[33m\"\u001b[39m, encoding=\u001b[33m\"\u001b[39m\u001b[33mutf-8\u001b[39m\u001b[33m\"\u001b[39m) \u001b[38;5;28;01mas\u001b[39;00m f2, \\\n\u001b[32m      4\u001b[39m          \u001b[38;5;28mopen\u001b[39m(outfile, \u001b[33m\"\u001b[39m\u001b[33mw\u001b[39m\u001b[33m\"\u001b[39m, encoding=\u001b[33m\"\u001b[39m\u001b[33mutf-8\u001b[39m\u001b[33m\"\u001b[39m) \u001b[38;5;28;01mas\u001b[39;00m out:\n\u001b[32m      5\u001b[39m \n\u001b[32m      6\u001b[39m         \u001b[38;5;66;03m# zip ikkala fayldan ham bir xil tartibda qator oladi\u001b[39;00m\n\u001b[32m      7\u001b[39m         \u001b[38;5;28;01mfor\u001b[39;00m line1, line2 \u001b[38;5;129;01min\u001b[39;00m \u001b[38;5;28mzip\u001b[39m(f1, f2):\n\u001b[32m      8\u001b[39m             out.write(line1.strip() + \u001b[33m\"\u001b[39m\u001b[33m \u001b[39m\u001b[33m\"\u001b[39m + line2.strip() + \u001b[33m\"\u001b[39m\u001b[38;5;130;01m\\n\u001b[39;00m\u001b[33m\"\u001b[39m)\n",
      "\u001b[36mFile \u001b[39m\u001b[32mc:\\Users\\user\\AppData\\Local\\Programs\\Python\\Python312\\Lib\\site-packages\\IPython\\core\\interactiveshell.py:343\u001b[39m, in \u001b[36m_modified_open\u001b[39m\u001b[34m(file, *args, **kwargs)\u001b[39m\n\u001b[32m    336\u001b[39m \u001b[38;5;28;01mif\u001b[39;00m file \u001b[38;5;129;01min\u001b[39;00m {\u001b[32m0\u001b[39m, \u001b[32m1\u001b[39m, \u001b[32m2\u001b[39m}:\n\u001b[32m    337\u001b[39m     \u001b[38;5;28;01mraise\u001b[39;00m \u001b[38;5;167;01mValueError\u001b[39;00m(\n\u001b[32m    338\u001b[39m         \u001b[33mf\u001b[39m\u001b[33m\"\u001b[39m\u001b[33mIPython won\u001b[39m\u001b[33m'\u001b[39m\u001b[33mt let you open fd=\u001b[39m\u001b[38;5;132;01m{\u001b[39;00mfile\u001b[38;5;132;01m}\u001b[39;00m\u001b[33m by default \u001b[39m\u001b[33m\"\u001b[39m\n\u001b[32m    339\u001b[39m         \u001b[33m\"\u001b[39m\u001b[33mas it is likely to crash IPython. If you know what you are doing, \u001b[39m\u001b[33m\"\u001b[39m\n\u001b[32m    340\u001b[39m         \u001b[33m\"\u001b[39m\u001b[33myou can use builtins\u001b[39m\u001b[33m'\u001b[39m\u001b[33m open.\u001b[39m\u001b[33m\"\u001b[39m\n\u001b[32m    341\u001b[39m     )\n\u001b[32m--> \u001b[39m\u001b[32m343\u001b[39m \u001b[38;5;28;01mreturn\u001b[39;00m \u001b[43mio_open\u001b[49m\u001b[43m(\u001b[49m\u001b[43mfile\u001b[49m\u001b[43m,\u001b[49m\u001b[43m \u001b[49m\u001b[43m*\u001b[49m\u001b[43margs\u001b[49m\u001b[43m,\u001b[49m\u001b[43m \u001b[49m\u001b[43m*\u001b[49m\u001b[43m*\u001b[49m\u001b[43mkwargs\u001b[49m\u001b[43m)\u001b[49m\n",
      "\u001b[31mFileNotFoundError\u001b[39m: [Errno 2] No such file or directory: 'fayl1.txt'"
     ]
    }
   ],
   "source": [
    "def merge_files(file1, file2, outfile):\n",
    "    with open(file1, \"r\", encoding=\"utf-8\") as f1, \\\n",
    "         open(file2, \"r\", encoding=\"utf-8\") as f2, \\\n",
    "         open(outfile, \"w\", encoding=\"utf-8\") as out:\n",
    "        \n",
    "        # zip ikkala fayldan ham bir xil tartibda qator oladi\n",
    "        for line1, line2 in zip(f1, f2):\n",
    "            out.write(line1.strip() + \" \" + line2.strip() + \"\\n\")\n",
    "\n",
    "# Foydalanish\n",
    "merge_files(\"fayl1.txt\", \"fayl2.txt\", \"birlashtirilgan_file.txt\")\n",
    "print(\"✅ Fayllar birlashtirildi!\")"
   ]
  },
  {
   "cell_type": "code",
   "execution_count": null,
   "id": "861a794f",
   "metadata": {},
   "outputs": [],
   "source": [
    "#15.\tFayldan tasodifiy bir qatorni o‘qiydigan Python dasturini yozing."
   ]
  },
  {
   "cell_type": "code",
   "execution_count": 44,
   "id": "c925b055",
   "metadata": {},
   "outputs": [
    {
     "name": "stdout",
     "output_type": "stream",
     "text": [
      "Tasodifiy qator: Python\n"
     ]
    }
   ],
   "source": [
    "import random\n",
    "\n",
    "def random_line(filename):\n",
    "    with open(filename, \"r\", encoding=\"utf-8\") as f:\n",
    "        lines = f.readlines()   # barcha qatorlarni ro‘yxatga olamiz\n",
    "    return random.choice(lines).strip()  # tasodifiy bittasini tanlaymiz\n",
    "\n",
    "\n",
    "print(\"Tasodifiy qator:\", random_line(\"matn1.txt\"))\n"
   ]
  },
  {
   "cell_type": "code",
   "execution_count": null,
   "id": "e4a63204",
   "metadata": {},
   "outputs": [],
   "source": [
    "#16.\tFayl yopilganmi yoki yo‘qmi tekshiradigan Python dasturini yozing."
   ]
  },
  {
   "cell_type": "code",
   "execution_count": 45,
   "id": "745cf768",
   "metadata": {},
   "outputs": [
    {
     "name": "stdout",
     "output_type": "stream",
     "text": [
      "Fayl yopilganmi? False\n",
      "Fayl yopilganmi? True\n"
     ]
    }
   ],
   "source": [
    "f = open(\"matn.txt\", \"r\", encoding=\"utf-8\")\n",
    "\n",
    "# Tekshiramiz\n",
    "print(\"Fayl yopilganmi?\", f.closed)  # ❌ False (ochiq)\n",
    "\n",
    "# Faylni yopamiz\n",
    "f.close()\n",
    "\n",
    "# Yana tekshiramiz\n",
    "print(\"Fayl yopilganmi?\", f.closed)  # ✅ True (yopiq)\n"
   ]
  },
  {
   "cell_type": "code",
   "execution_count": null,
   "id": "d2a2d492",
   "metadata": {},
   "outputs": [],
   "source": [
    "#17.Fayldagi yangi qator belgilarini olib tashlaydigan Python dasturini yozing"
   ]
  },
  {
   "cell_type": "code",
   "execution_count": null,
   "id": "e12da84f",
   "metadata": {},
   "outputs": [
    {
     "name": "stdout",
     "output_type": "stream",
     "text": [
      "Yangi qator belgilar olib tashlandi!\n"
     ]
    }
   ],
   "source": [
    "def remove_newlines(infile, outfile):\n",
    "    with open(infile, \"r\", encoding=\"utf-8\") as f:\n",
    "        lines = f.readlines()\n",
    "    \n",
    "    # har bir qator oxiridan \\n belgisini olib tashlaymiz\n",
    "    clean_lines = [line.strip() for line in lines]\n",
    "\n",
    "    # yangi faylga yozamiz\n",
    "    with open(outfile, \"w\", encoding=\"utf-8\") as f:\n",
    "        f.write(\" \".join(clean_lines))  # qatorlarni bitta matn qilib yozadi\n",
    "\n",
    "\n",
    "remove_newlines(\"matn1.txt\", \"tozalangan.txt\")\n",
    "print(\"Yangi qator belgilar olib tashlandi!\")\n"
   ]
  },
  {
   "cell_type": "code",
   "execution_count": null,
   "id": "f3f21c71",
   "metadata": {},
   "outputs": [],
   "source": [
    "#18.Matnli faylni kiritma sifatida qabul qilib, undagi so‘zlar sonini qaytaradigan Python dasturini yozing."
   ]
  },
  {
   "cell_type": "code",
   "execution_count": 48,
   "id": "f5802f6f",
   "metadata": {},
   "outputs": [
    {
     "name": "stdout",
     "output_type": "stream",
     "text": [
      "Yangi qator belgilar olib tashlandi!\n"
     ]
    }
   ],
   "source": [
    "def remove_newlines(infile, outfile):\n",
    "    with open(infile, \"r\", encoding=\"utf-8\") as f:\n",
    "        lines = f.readlines()\n",
    "    \n",
    "    # har bir qator oxiridan \\n belgisini olib tashlaymiz\n",
    "    clean_lines = [line.strip() for line in lines]\n",
    "\n",
    "    # yangi faylga yozamiz\n",
    "    with open(outfile, \"w\", encoding=\"utf-8\") as f:\n",
    "        f.write(\" \".join(clean_lines))  # qatorlarni bitta matn qilib yozadi\n",
    "\n",
    "# Foydalanish\n",
    "remove_newlines(\"matn1.txt\", \"tozalangan.txt\")\n",
    "print(\"Yangi qator belgilar olib tashlandi!\")\n"
   ]
  },
  {
   "cell_type": "code",
   "execution_count": null,
   "id": "74dc42f0",
   "metadata": {},
   "outputs": [],
   "source": [
    "#19.Turli matnli fayllardan belgilarni ajratib olib, ro‘yxatga joylaydigan Python dasturini yozing."
   ]
  },
  {
   "cell_type": "code",
   "execution_count": 51,
   "id": "0fcd7b02",
   "metadata": {},
   "outputs": [],
   "source": [
    "def chars_from_files(files):\n",
    "    belgi_royxat = []\n",
    "    for file in files:\n",
    "        with open(file, \"r\", encoding=\"utf-8\") as f:\n",
    "            matn = f.read()\n",
    "            for belgi in matn:     # har bir belgini olish\n",
    "                belgi_royxat.append(belgi)\n",
    "    return belgi_royxat\n",
    "\n",
    "\n",
    "# Foydalanish\n",
    "fayllar = [\"matn1.txt\", \"matn2.txt\", \"matn3.txt\"]\n",
    "natija = chars_from_files(fayllar)\n"
   ]
  },
  {
   "cell_type": "code",
   "execution_count": null,
   "id": "61eace5a",
   "metadata": {},
   "outputs": [],
   "source": [
    "#20.\tA.txt, B.txt, … Z.txt nomli 26 ta matnli fayl yaratadigan Python dasturini yozing."
   ]
  },
  {
   "cell_type": "code",
   "execution_count": 52,
   "id": "e8d96107",
   "metadata": {},
   "outputs": [
    {
     "name": "stdout",
     "output_type": "stream",
     "text": [
      "✅ 26 ta fayl yaratildi: A.txt dan Z.txt gacha\n"
     ]
    }
   ],
   "source": [
    "import string\n",
    "\n",
    "# Alfavit harflari bo‘yicha fayllar yaratish\n",
    "for harf in string.ascii_uppercase:  # A, B, C, ... Z\n",
    "    filename = f\"{harf}.txt\"\n",
    "    with open(filename, \"w\", encoding=\"utf-8\") as f:\n",
    "        f.write(f\"Bu fayl {harf}.txt nomli fayldir.\\n\")\n",
    "\n",
    "print(\"✅ 26 ta fayl yaratildi: A.txt dan Z.txt gacha\")\n"
   ]
  }
 ],
 "metadata": {
  "kernelspec": {
   "display_name": "Python 3",
   "language": "python",
   "name": "python3"
  },
  "language_info": {
   "codemirror_mode": {
    "name": "ipython",
    "version": 3
   },
   "file_extension": ".py",
   "mimetype": "text/x-python",
   "name": "python",
   "nbconvert_exporter": "python",
   "pygments_lexer": "ipython3",
   "version": "3.12.10"
  }
 },
 "nbformat": 4,
 "nbformat_minor": 5
}
